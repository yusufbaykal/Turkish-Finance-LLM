{
 "cells": [
  {
   "cell_type": "code",
   "id": "initial_id",
   "metadata": {
    "collapsed": true,
    "ExecuteTime": {
     "end_time": "2024-10-17T07:54:06.576952Z",
     "start_time": "2024-10-17T07:54:05.274938Z"
    }
   },
   "source": "import pandas as pd",
   "outputs": [],
   "execution_count": 1
  },
  {
   "metadata": {
    "ExecuteTime": {
     "end_time": "2024-10-17T07:54:09.082880Z",
     "start_time": "2024-10-17T07:54:08.387796Z"
    }
   },
   "cell_type": "code",
   "source": [
    "df = pd.read_csv(\"translated_finance_data.csv\")\n",
    "df.head()"
   ],
   "id": "644ffd0df8df9817",
   "outputs": [
    {
     "data": {
      "text/plain": [
       "                                        user_message  \\\n",
       "0  You are a financial expert. Your task is to pr...   \n",
       "1  You are a financial expert. Your task is to pr...   \n",
       "2  You are a financial expert. Your task is to pr...   \n",
       "3  You are a financial expert. Your task is to pr...   \n",
       "4  You are a financial expert. Your task is to pr...   \n",
       "\n",
       "                              translated_instruction  \n",
       "0  Sen bir finans uzmanısın. Senin görevin verile...  \n",
       "1  Bir finans uzmanısınız. Göreviniz, finansla il...  \n",
       "2  Bir finans uzmanısınız. Göreviniz, finansla il...  \n",
       "3  Finansal bir uzmansınız. Göreviniz, finansla i...  \n",
       "4  Sen bir finans uzmanısın. Göreviniz, verilen k...  "
      ],
      "text/html": [
       "<div>\n",
       "<style scoped>\n",
       "    .dataframe tbody tr th:only-of-type {\n",
       "        vertical-align: middle;\n",
       "    }\n",
       "\n",
       "    .dataframe tbody tr th {\n",
       "        vertical-align: top;\n",
       "    }\n",
       "\n",
       "    .dataframe thead th {\n",
       "        text-align: right;\n",
       "    }\n",
       "</style>\n",
       "<table border=\"1\" class=\"dataframe\">\n",
       "  <thead>\n",
       "    <tr style=\"text-align: right;\">\n",
       "      <th></th>\n",
       "      <th>user_message</th>\n",
       "      <th>translated_instruction</th>\n",
       "    </tr>\n",
       "  </thead>\n",
       "  <tbody>\n",
       "    <tr>\n",
       "      <th>0</th>\n",
       "      <td>You are a financial expert. Your task is to pr...</td>\n",
       "      <td>Sen bir finans uzmanısın. Senin görevin verile...</td>\n",
       "    </tr>\n",
       "    <tr>\n",
       "      <th>1</th>\n",
       "      <td>You are a financial expert. Your task is to pr...</td>\n",
       "      <td>Bir finans uzmanısınız. Göreviniz, finansla il...</td>\n",
       "    </tr>\n",
       "    <tr>\n",
       "      <th>2</th>\n",
       "      <td>You are a financial expert. Your task is to pr...</td>\n",
       "      <td>Bir finans uzmanısınız. Göreviniz, finansla il...</td>\n",
       "    </tr>\n",
       "    <tr>\n",
       "      <th>3</th>\n",
       "      <td>You are a financial expert. Your task is to pr...</td>\n",
       "      <td>Finansal bir uzmansınız. Göreviniz, finansla i...</td>\n",
       "    </tr>\n",
       "    <tr>\n",
       "      <th>4</th>\n",
       "      <td>You are a financial expert. Your task is to pr...</td>\n",
       "      <td>Sen bir finans uzmanısın. Göreviniz, verilen k...</td>\n",
       "    </tr>\n",
       "  </tbody>\n",
       "</table>\n",
       "</div>"
      ]
     },
     "execution_count": 2,
     "metadata": {},
     "output_type": "execute_result"
    }
   ],
   "execution_count": 2
  },
  {
   "metadata": {
    "ExecuteTime": {
     "end_time": "2024-10-17T07:54:10.616339Z",
     "start_time": "2024-10-17T07:54:10.609076Z"
    }
   },
   "cell_type": "code",
   "source": [
    "df_tr = df[\"translated_instruction\"]\n",
    "df_tr[0]"
   ],
   "id": "5fa368dbd511d69b",
   "outputs": [
    {
     "data": {
      "text/plain": [
       "'Sen bir finans uzmanısın. Senin görevin verilen konuşma bağlamına göre finansla ilgili sorulara doğru ve anlayışlı cevaplar vermektir. Soru: Apple Inc. (AAPL) geçtiğimiz yıl ne kadar gelir elde etti? Bağlam: Kullanıcı: Apple Inc. gelir geçen yıl Asistan: En son finansal raporlara göre Apple Inc. kene sembolü AAPL geçen yıl 365.71 milyar dolarlık bir gelir elde etti. Bu, bir önceki yıla kıyasla 260 dolarlık önemli bir artışa işaret ediyor.'"
      ]
     },
     "execution_count": 3,
     "metadata": {},
     "output_type": "execute_result"
    }
   ],
   "execution_count": 3
  },
  {
   "metadata": {},
   "cell_type": "code",
   "outputs": [],
   "execution_count": null,
   "source": "",
   "id": "6f2cd957bc0ef8"
  }
 ],
 "metadata": {
  "kernelspec": {
   "display_name": "Python 3",
   "language": "python",
   "name": "python3"
  },
  "language_info": {
   "codemirror_mode": {
    "name": "ipython",
    "version": 2
   },
   "file_extension": ".py",
   "mimetype": "text/x-python",
   "name": "python",
   "nbconvert_exporter": "python",
   "pygments_lexer": "ipython2",
   "version": "2.7.6"
  }
 },
 "nbformat": 4,
 "nbformat_minor": 5
}
